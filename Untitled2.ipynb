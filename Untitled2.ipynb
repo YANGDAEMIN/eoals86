{
 "cells": [
  {
   "cell_type": "code",
   "execution_count": 15,
   "metadata": {},
   "outputs": [
    {
     "data": {
      "text/plain": [
       "array([ 1,  2,  3,  4,  5,  6,  7,  8,  9, 10])"
      ]
     },
     "execution_count": 15,
     "metadata": {},
     "output_type": "execute_result"
    }
   ],
   "source": [
    "import numpy as np\n",
    "\n",
    "vec1 = np.array([1,2,3,4,5,6,7,8,9,10])\n",
    "vec1"
   ]
  },
  {
   "cell_type": "code",
   "execution_count": 18,
   "metadata": {},
   "outputs": [
    {
     "name": "stdout",
     "output_type": "stream",
     "text": [
      "[ 1  2  3  4  5  6  7  8  9 10]\n"
     ]
    }
   ],
   "source": [
    "vec1 = np.arange(1,11)\n",
    "print(vec1)"
   ]
  },
  {
   "cell_type": "code",
   "execution_count": 19,
   "metadata": {},
   "outputs": [
    {
     "name": "stdout",
     "output_type": "stream",
     "text": [
      "[[ 1  2  3]\n",
      " [ 4  5  6]\n",
      " [ 7  8  9]\n",
      " [10 11 12]]\n",
      "(4, 3)\n"
     ]
    }
   ],
   "source": [
    "mat1 = np.array([\n",
    "    [1,2,3],\n",
    "    [4,5,6],\n",
    "    [7,8,9],\n",
    "    [10,11,12]\n",
    "])\n",
    "\n",
    "print(mat1)\n",
    "print(mat1.shape)"
   ]
  },
  {
   "cell_type": "code",
   "execution_count": 21,
   "metadata": {},
   "outputs": [
    {
     "name": "stdout",
     "output_type": "stream",
     "text": [
      "[[ 1  2  3]\n",
      " [ 4  5  6]\n",
      " [ 7  8  9]\n",
      " [10 11 12]]\n",
      "(4, 3)\n"
     ]
    }
   ],
   "source": [
    "mat2 = np.matrix([\n",
    "    [1,   2,  3],\n",
    "    [4,   5,  6],\n",
    "    [7,   8,  9],\n",
    "    [10, 11, 12]\n",
    "])\n",
    "\n",
    "print(mat2)\n",
    "print(mat2.shape)"
   ]
  },
  {
   "cell_type": "code",
   "execution_count": 25,
   "metadata": {},
   "outputs": [
    {
     "name": "stdout",
     "output_type": "stream",
     "text": [
      "[[[ 1  2  3]\n",
      "  [ 4  5  6]]\n",
      "\n",
      " [[ 7  8  9]\n",
      "  [10 11 12]]]\n",
      "(2, 2, 3)\n"
     ]
    }
   ],
   "source": [
    "\n",
    "\n",
    "ten1 = np.array([\n",
    "    [\n",
    "        [1,   2,  3],\n",
    "        [4,   5,  6]\n",
    "    ],\n",
    "    [\n",
    "        [7,   8,  9],\n",
    "        [10, 11, 12]\n",
    "    ]\n",
    "])\n",
    "\n",
    "print(ten1)\n",
    "print(ten1.shape)"
   ]
  },
  {
   "cell_type": "code",
   "execution_count": 28,
   "metadata": {},
   "outputs": [
    {
     "ename": "ValueError",
     "evalue": "shapes (4,3) and (4,3) not aligned: 3 (dim 1) != 4 (dim 0)",
     "output_type": "error",
     "traceback": [
      "\u001b[0;31m---------------------------------------------------------------------------\u001b[0m",
      "\u001b[0;31mValueError\u001b[0m                                Traceback (most recent call last)",
      "\u001b[0;32m<ipython-input-28-a600386602ae>\u001b[0m in \u001b[0;36m<module>\u001b[0;34m\u001b[0m\n\u001b[0;32m----> 1\u001b[0;31m \u001b[0mmat4\u001b[0m \u001b[0;34m=\u001b[0m \u001b[0mmat1\u001b[0m \u001b[0;34m*\u001b[0m \u001b[0mmat2\u001b[0m\u001b[0;34m\u001b[0m\u001b[0;34m\u001b[0m\u001b[0m\n\u001b[0m\u001b[1;32m      2\u001b[0m \u001b[0mprint\u001b[0m\u001b[0;34m(\u001b[0m\u001b[0mmat4\u001b[0m\u001b[0;34m)\u001b[0m\u001b[0;34m\u001b[0m\u001b[0;34m\u001b[0m\u001b[0m\n",
      "\u001b[0;32m~/anaconda3/lib/python3.7/site-packages/numpy/matrixlib/defmatrix.py\u001b[0m in \u001b[0;36m__rmul__\u001b[0;34m(self, other)\u001b[0m\n\u001b[1;32m    224\u001b[0m \u001b[0;34m\u001b[0m\u001b[0m\n\u001b[1;32m    225\u001b[0m     \u001b[0;32mdef\u001b[0m \u001b[0m__rmul__\u001b[0m\u001b[0;34m(\u001b[0m\u001b[0mself\u001b[0m\u001b[0;34m,\u001b[0m \u001b[0mother\u001b[0m\u001b[0;34m)\u001b[0m\u001b[0;34m:\u001b[0m\u001b[0;34m\u001b[0m\u001b[0;34m\u001b[0m\u001b[0m\n\u001b[0;32m--> 226\u001b[0;31m         \u001b[0;32mreturn\u001b[0m \u001b[0mN\u001b[0m\u001b[0;34m.\u001b[0m\u001b[0mdot\u001b[0m\u001b[0;34m(\u001b[0m\u001b[0mother\u001b[0m\u001b[0;34m,\u001b[0m \u001b[0mself\u001b[0m\u001b[0;34m)\u001b[0m\u001b[0;34m\u001b[0m\u001b[0;34m\u001b[0m\u001b[0m\n\u001b[0m\u001b[1;32m    227\u001b[0m \u001b[0;34m\u001b[0m\u001b[0m\n\u001b[1;32m    228\u001b[0m     \u001b[0;32mdef\u001b[0m \u001b[0m__imul__\u001b[0m\u001b[0;34m(\u001b[0m\u001b[0mself\u001b[0m\u001b[0;34m,\u001b[0m \u001b[0mother\u001b[0m\u001b[0;34m)\u001b[0m\u001b[0;34m:\u001b[0m\u001b[0;34m\u001b[0m\u001b[0;34m\u001b[0m\u001b[0m\n",
      "\u001b[0;32m<__array_function__ internals>\u001b[0m in \u001b[0;36mdot\u001b[0;34m(*args, **kwargs)\u001b[0m\n",
      "\u001b[0;31mValueError\u001b[0m: shapes (4,3) and (4,3) not aligned: 3 (dim 1) != 4 (dim 0)"
     ]
    }
   ],
   "source": [
    "mat4 = mat1 * mat2\n",
    "print(mat4)"
   ]
  },
  {
   "cell_type": "code",
   "execution_count": 31,
   "metadata": {},
   "outputs": [
    {
     "name": "stdout",
     "output_type": "stream",
     "text": [
      "[[1 2 3]\n",
      " [4 5 6]\n",
      " [7 8 9]]\n",
      "(3, 3)\n",
      "[[ 4  5  6]\n",
      " [ 7  8  9]\n",
      " [10 11 12]]\n",
      "(3, 3)\n"
     ]
    }
   ],
   "source": [
    "\n",
    "\n",
    "mat3 = np.array([\n",
    "    [1,   2,  3],\n",
    "    [4,   5,  6],\n",
    "    [7,   8,  9],\n",
    "])\n",
    "\n",
    "print(mat3)\n",
    "print(mat3.shape)\n",
    "\n",
    "mat4 = np.array([\n",
    "    [4,   5,  6],\n",
    "    [7,   8,  9],\n",
    "    [10, 11, 12]\n",
    "])\n",
    "\n",
    "print(mat4)\n",
    "print(mat4.shape)"
   ]
  },
  {
   "cell_type": "code",
   "execution_count": 32,
   "metadata": {},
   "outputs": [
    {
     "name": "stdout",
     "output_type": "stream",
     "text": [
      "[[  4  10  18]\n",
      " [ 28  40  54]\n",
      " [ 70  88 108]]\n"
     ]
    }
   ],
   "source": [
    "mat5 = mat3 * mat4\n",
    "print(mat5)"
   ]
  },
  {
   "cell_type": "code",
   "execution_count": null,
   "metadata": {},
   "outputs": [],
   "source": [
    "# 행렬 연산의 규칙\n",
    "# 행력의 행과 열로 구성된다.\n",
    "# 행렬의 곱셈을 수행하기 위한 최소한의 규칙\n",
    "# m by n 행렬을 곱하려면 n by x가 되어야 한다.\n",
    "# 두 행렬의 곱셈 결과는 m by x가 된다."
   ]
  },
  {
   "cell_type": "code",
   "execution_count": 35,
   "metadata": {},
   "outputs": [
    {
     "name": "stdout",
     "output_type": "stream",
     "text": [
      "[[ 1  4  7 10]\n",
      " [ 2  5  8 11]\n",
      " [ 3  6  9 12]]\n",
      "[[ 1  2  3]\n",
      " [ 4  5  6]\n",
      " [ 7  8  9]\n",
      " [10 11 12]]\n"
     ]
    }
   ],
   "source": [
    "#전치 행렬 = 행과 열의 위치를 바꾼다.\n",
    "print(mat1.T)\n",
    "print(mat2)"
   ]
  },
  {
   "cell_type": "code",
   "execution_count": 36,
   "metadata": {},
   "outputs": [
    {
     "name": "stdout",
     "output_type": "stream",
     "text": [
      "[[166 188 210]\n",
      " [188 214 240]\n",
      " [210 240 270]]\n"
     ]
    }
   ],
   "source": [
    "# 3 by 4 * 4 by 3 => 3 by 3\n",
    "mat5 = mat1.T * mat2\n",
    "print(mat5)"
   ]
  },
  {
   "cell_type": "code",
   "execution_count": 37,
   "metadata": {},
   "outputs": [
    {
     "name": "stdout",
     "output_type": "stream",
     "text": [
      "[[ 14  32  50  68]\n",
      " [ 32  77 122 167]\n",
      " [ 50 122 194 266]\n",
      " [ 68 167 266 365]]\n"
     ]
    }
   ],
   "source": [
    "# 4 by 3 * 3 by 4 => 4 by 4\n",
    "mat5 = mat1 * mat2.T\n",
    "print(mat5)"
   ]
  },
  {
   "cell_type": "code",
   "execution_count": 38,
   "metadata": {},
   "outputs": [
    {
     "name": "stdout",
     "output_type": "stream",
     "text": [
      "(10,)\n"
     ]
    }
   ],
   "source": [
    "print(vec1.shape)"
   ]
  },
  {
   "cell_type": "code",
   "execution_count": 39,
   "metadata": {},
   "outputs": [
    {
     "name": "stdout",
     "output_type": "stream",
     "text": [
      "[[ 0  2  4]\n",
      " [ 6  8 10]]\n",
      "(2, 3)\n"
     ]
    }
   ],
   "source": [
    "smartMat = np.arange(0, 11, 2).reshape((2, 3))\n",
    "\n",
    "print(smartMat)\n",
    "print(smartMat.shape)"
   ]
  },
  {
   "cell_type": "code",
   "execution_count": 40,
   "metadata": {},
   "outputs": [
    {
     "name": "stdout",
     "output_type": "stream",
     "text": [
      "[[ 5  6  7]\n",
      " [ 8  9 10]\n",
      " [11 12 13]\n",
      " [14 15 16]]\n"
     ]
    }
   ],
   "source": [
    "\n",
    "\n",
    "test = mat1 + 4\n",
    "\n",
    "print(test)\n",
    "\n"
   ]
  },
  {
   "cell_type": "code",
   "execution_count": 41,
   "metadata": {},
   "outputs": [
    {
     "name": "stdout",
     "output_type": "stream",
     "text": [
      "[[ 1  2  3  4]\n",
      " [ 5  6  7  8]\n",
      " [ 9 10 11 12]]\n",
      "(3, 4)\n"
     ]
    }
   ],
   "source": [
    "smartMat2 = np.arange(1, 13).reshape((3, 4))\n",
    "\n",
    "print(smartMat2)\n",
    "print(smartMat2.shape)"
   ]
  },
  {
   "cell_type": "code",
   "execution_count": 42,
   "metadata": {},
   "outputs": [
    {
     "name": "stdout",
     "output_type": "stream",
     "text": [
      "[[ 1  2  3]\n",
      " [ 4  5  6]\n",
      " [ 7  8  9]\n",
      " [10 11 12]]\n",
      "(4, 3)\n"
     ]
    }
   ],
   "source": [
    "mat1 = np.array([\n",
    "    [1,   2,  3],\n",
    "    [4,   5,  6],\n",
    "    [7,   8,  9],\n",
    "    [10, 11, 12]\n",
    "])\n",
    "\n",
    "print(mat1)\n",
    "print(mat1.shape)"
   ]
  },
  {
   "cell_type": "code",
   "execution_count": 44,
   "metadata": {},
   "outputs": [
    {
     "name": "stdout",
     "output_type": "stream",
     "text": [
      "(4, 3)\n"
     ]
    }
   ],
   "source": [
    "print(mat1.shape)"
   ]
  },
  {
   "cell_type": "code",
   "execution_count": 45,
   "metadata": {},
   "outputs": [
    {
     "name": "stdout",
     "output_type": "stream",
     "text": [
      "4\n",
      "3\n"
     ]
    }
   ],
   "source": [
    "print(mat1.shape[0])\n",
    "print(mat1.shape[1])"
   ]
  },
  {
   "cell_type": "code",
   "execution_count": 46,
   "metadata": {},
   "outputs": [
    {
     "name": "stdout",
     "output_type": "stream",
     "text": [
      "[ 1  2  3  4  5  6  7  8  9 10 11 12]\n"
     ]
    }
   ],
   "source": [
    "# 차원 변환이 필요한 경우가 있음 - 가우스-조르단 소거법\n",
    "mat1 = mat1.reshape(mat1.shape[0] * mat1.shape[1])\n",
    "\n",
    "print(mat1)"
   ]
  },
  {
   "cell_type": "code",
   "execution_count": 47,
   "metadata": {},
   "outputs": [
    {
     "name": "stdout",
     "output_type": "stream",
     "text": [
      "[[[ 1  2]\n",
      "  [ 3  4]]\n",
      "\n",
      " [[ 5  6]\n",
      "  [ 7  8]]\n",
      "\n",
      " [[ 9 10]\n",
      "  [11 12]]]\n"
     ]
    }
   ],
   "source": [
    "# 텐서를 해석하는 방법\n",
    "# 맨 앞의 숫자가 큰 집합의 개수를 의미함\n",
    "# 뒤쪽의 2개는 행렬의 모양을 의미\n",
    "# 즉 뒤쪽에 2개를 통해 행렬의 모양을 잡고\n",
    "# 맨 앞의 숫자를 통해 해당 행렬이 몇 개 있는지 파악하면 된다.\n",
    "ten2 = mat1.reshape((3, 2, 2))\n",
    "\n",
    "print(ten2)"
   ]
  },
  {
   "cell_type": "code",
   "execution_count": 48,
   "metadata": {},
   "outputs": [
    {
     "name": "stdout",
     "output_type": "stream",
     "text": [
      "[[[1 2 3]\n",
      "  [4 5 6]]\n",
      "\n",
      " [[2 3 4]\n",
      "  [5 6 7]]]\n",
      "(2, 2, 3)\n"
     ]
    }
   ],
   "source": [
    "ret = np.matrix(np.arange(1, 7)).reshape((2, 3))\n",
    "ret2 = np.matrix(np.arange(2, 8)).reshape((2, 3))\n",
    "\n",
    "ten3 = np.array([\n",
    "    ret, ret2\n",
    "])\n",
    "\n",
    "print(ten3)\n",
    "print(ten3.shape)"
   ]
  },
  {
   "cell_type": "code",
   "execution_count": 50,
   "metadata": {},
   "outputs": [
    {
     "name": "stdout",
     "output_type": "stream",
     "text": [
      "(3, 2, 2)\n",
      "(2, 2, 3)\n"
     ]
    }
   ],
   "source": [
    "print(ten2.shape)\n",
    "print(ten3.shape)\n",
    "\n",
    "# (3, 2, 2)\n",
    "# (2, 2, 3)\n",
    "# [\n",
    "#     [\n",
    "#         [\n",
    "#             [  9  12  15]   (2, 3)\n",
    "#             [ 12  15  18]\n",
    "#         ]\n",
    "#         [\n",
    "#             [ 19  26  33]\n",
    "#             [ 26  33  40]\n",
    "#         ]\n",
    "#     ]      ---------------- (2, 2, 3)\n",
    "#     [\n",
    "#         [\n",
    "#             [ 29  40  51]\n",
    "#             [ 40  51  62]\n",
    "#         ]\n",
    "#         [\n",
    "#             [ 39  54  69]\n",
    "#             [ 54  69  84]\n",
    "#         ]\n",
    "#     ]\n",
    "#     [\n",
    "#         [\n",
    "#             [ 49  68  87]\n",
    "#             [ 68  87 106]\n",
    "#         ]\n",
    "#         [\n",
    "#             [ 59  82 105]\n",
    "#             [ 82 105 128]\n",
    "#         ]\n",
    "#     ]\n",
    "# ]  ------------------------ (3, 2, 2, 3)\n",
    "\n"
   ]
  },
  {
   "cell_type": "code",
   "execution_count": 51,
   "metadata": {},
   "outputs": [
    {
     "name": "stdout",
     "output_type": "stream",
     "text": [
      "[[[[  9  12  15]\n",
      "   [ 12  15  18]]\n",
      "\n",
      "  [[ 19  26  33]\n",
      "   [ 26  33  40]]]\n",
      "\n",
      "\n",
      " [[[ 29  40  51]\n",
      "   [ 40  51  62]]\n",
      "\n",
      "  [[ 39  54  69]\n",
      "   [ 54  69  84]]]\n",
      "\n",
      "\n",
      " [[[ 49  68  87]\n",
      "   [ 68  87 106]]\n",
      "\n",
      "  [[ 59  82 105]\n",
      "   [ 82 105 128]]]]\n",
      "(3, 2, 2, 3)\n"
     ]
    }
   ],
   "source": [
    "\n",
    "\n",
    "# [ 1  2]    [1, 2, 3]  \n",
    "# [ 3  4]    [4, 5, 6] \n",
    "#            [2, 3, 4] \n",
    "#            [5, 6, 7] \n",
    "# [ 5  6]\n",
    "# [ 7  8]\n",
    "\n",
    "# [ 9 10]\n",
    "# [11 12]\n",
    "ten4 = ten2.dot(ten3)\n",
    "\n",
    "print(ten4)\n",
    "print(ten4.shape)\n"
   ]
  },
  {
   "cell_type": "code",
   "execution_count": 52,
   "metadata": {},
   "outputs": [
    {
     "name": "stdout",
     "output_type": "stream",
     "text": [
      "[[1 2]\n",
      " [3 4]]\n",
      "[[1 2]\n",
      " [3 4]]\n",
      "[[ 1  4]\n",
      " [ 9 16]]\n",
      "[[ 7 10]\n",
      " [15 22]]\n"
     ]
    }
   ],
   "source": [
    "testMat1 = np.arange(1, 5).reshape((2, 2))\n",
    "testMat2 = np.arange(1, 5).reshape((2, 2))\n",
    "\n",
    "print(testMat1)\n",
    "print(testMat2)\n",
    "print(testMat1 * testMat2)\n",
    "print(testMat1.dot(testMat2))"
   ]
  },
  {
   "cell_type": "code",
   "execution_count": null,
   "metadata": {},
   "outputs": [],
   "source": [
    "# 인공지능을 공부할 때\n",
    "# 1. 선형대수 - 수리물리학(텐서 <<< 책 x)\n",
    "#             아프켄, 보아스(먼저추천)\n",
    "# 2. 통계학\n",
    "# 3. 공업수학(라플라스 변환, 푸리에 변환)\n",
    "# 4. 커스텀 라이브러리"
   ]
  },
  {
   "cell_type": "code",
   "execution_count": 53,
   "metadata": {},
   "outputs": [
    {
     "name": "stdout",
     "output_type": "stream",
     "text": [
      "anaconda3\t\t\t  examples.desktop\t    sw\r\n",
      "Applied-Deep-Learning-with-Keras  ls\t\t\t    Templates\r\n",
      "data\t\t\t\t  Music\t\t\t    Untitled1.ipynb\r\n",
      "data.bank_data_feats.csv\t  NVIDIA_CUDA-11.0_Samples  Untitled2.ipynb\r\n",
      "Desktop\t\t\t\t  Pictures\t\t    Untitled.ipynb\r\n",
      "Documents\t\t\t  Public\t\t    Videos\r\n",
      "Downloads\t\t\t  snap\r\n"
     ]
    }
   ],
   "source": [
    "!ls"
   ]
  },
  {
   "cell_type": "code",
   "execution_count": 54,
   "metadata": {},
   "outputs": [
    {
     "name": "stdout",
     "output_type": "stream",
     "text": [
      "Lesson01  Lesson03  Lesson05  Lesson07\tLesson09  README.md\r\n",
      "Lesson02  Lesson04  Lesson06  Lesson08\tLICENSE\r\n"
     ]
    }
   ],
   "source": [
    "!ls Applied-Deep-Learning-with-Keras"
   ]
  },
  {
   "cell_type": "code",
   "execution_count": 55,
   "metadata": {},
   "outputs": [
    {
     "name": "stdout",
     "output_type": "stream",
     "text": [
      "Activity01.ipynb  data\t\t    Exercise02.ipynb  Exercise04.ipynb\r\n",
      "bank.zip\t  Exercise01.ipynb  Exercise03.ipynb  Exercise05.ipynb\r\n"
     ]
    }
   ],
   "source": [
    "!ls Applied-Deep-Learning-with-Keras/Lesson01"
   ]
  },
  {
   "cell_type": "code",
   "execution_count": 56,
   "metadata": {},
   "outputs": [
    {
     "name": "stdout",
     "output_type": "stream",
     "text": [
      "bank.csv\t\tbank_data_feats_e2.csv\tbank_data_target_e2.csv\r\n",
      "bank_data_feats_a2.csv\tbank_data_feats_e3.csv\tbank-full.csv\r\n",
      "bank_data_feats.csv\tbank_data_target.csv\tbank-names.txt\r\n"
     ]
    }
   ],
   "source": [
    "!ls Applied-Deep-Learning-with-Keras/Lesson01/data"
   ]
  },
  {
   "cell_type": "code",
   "execution_count": 60,
   "metadata": {},
   "outputs": [],
   "source": [
    "\n",
    "\n",
    "import pandas as pd\n",
    "\n",
    "feats = pd.read_csv(\n",
    "    'Applied-Deep-Learning-with-Keras/Lesson01/data/bank_data_feats_e3.csv',\n",
    "    index_col = 0\n",
    ")\n",
    "target = pd.read_csv(\n",
    "    'Applied-Deep-Learning-with-Keras/Lesson01/data/bank_data_target_e2.csv',\n",
    "    index_col = 0\n",
    ")\n",
    "\n"
   ]
  },
  {
   "cell_type": "code",
   "execution_count": 62,
   "metadata": {},
   "outputs": [],
   "source": [
    "\n",
    "\n",
    "from sklearn.model_selection import train_test_split\n",
    "\n",
    "test_size = 0.2\n",
    "random_state = 42\n",
    "\n",
    "X_train, X_test, y_train, y_test = train_test_split(\n",
    "    feats, target, test_size=test_size, random_state=random_state\n",
    ")\n",
    "\n"
   ]
  },
  {
   "cell_type": "code",
   "execution_count": 63,
   "metadata": {},
   "outputs": [
    {
     "name": "stdout",
     "output_type": "stream",
     "text": [
      "(3616, 32)\n",
      "(905, 32)\n",
      "(3616, 1)\n",
      "(905, 1)\n"
     ]
    }
   ],
   "source": [
    "print(X_train.shape)\n",
    "print(X_test.shape)\n",
    "print(y_train.shape)\n",
    "print(y_test.shape)"
   ]
  },
  {
   "cell_type": "code",
   "execution_count": 64,
   "metadata": {},
   "outputs": [],
   "source": [
    "\n",
    "\n",
    "# pip install tensorflow\n",
    "from keras.models import Sequential\n",
    "\n",
    "model = Sequential()\n",
    "\n",
    "# 합성곱 = 콘볼루션(Convolution), 컨벌루션\n",
    "\n"
   ]
  },
  {
   "cell_type": "code",
   "execution_count": 65,
   "metadata": {},
   "outputs": [],
   "source": [
    "from keras.layers import Dense, Activation\n",
    "from keras.models import Sequential\n",
    "\n",
    "input_shape = X_train.shape[1]\n",
    "units = 1\n",
    "\n",
    "model.add(Dense(units, input_dim = input_shape))\n",
    "model.add(Activation('tanh'))"
   ]
  },
  {
   "cell_type": "code",
   "execution_count": 66,
   "metadata": {},
   "outputs": [],
   "source": [
    "\n",
    "\n",
    "model.compile(\n",
    "    optimizer='adam',\n",
    "    loss='binary_crossentropy',\n",
    "    metrics=['accuracy']\n",
    ")\n",
    "\n"
   ]
  },
  {
   "cell_type": "code",
   "execution_count": 67,
   "metadata": {},
   "outputs": [
    {
     "name": "stdout",
     "output_type": "stream",
     "text": [
      "Model: \"sequential_1\"\n",
      "_________________________________________________________________\n",
      "Layer (type)                 Output Shape              Param #   \n",
      "=================================================================\n",
      "dense_4 (Dense)              (None, 1)                 33        \n",
      "_________________________________________________________________\n",
      "activation (Activation)      (None, 1)                 0         \n",
      "=================================================================\n",
      "Total params: 33\n",
      "Trainable params: 33\n",
      "Non-trainable params: 0\n",
      "_________________________________________________________________\n",
      "None\n"
     ]
    }
   ],
   "source": [
    "\n",
    "\n",
    "print(model.summary())\n",
    "\n"
   ]
  },
  {
   "cell_type": "code",
   "execution_count": 68,
   "metadata": {},
   "outputs": [
    {
     "name": "stdout",
     "output_type": "stream",
     "text": [
      "Epoch 1/10\n",
      "91/91 [==============================] - 0s 2ms/step - loss: 1.8476 - accuracy: 0.8800 - val_loss: 1.6405 - val_accuracy: 0.8936\n",
      "Epoch 2/10\n",
      "91/91 [==============================] - 0s 925us/step - loss: 1.8454 - accuracy: 0.8804 - val_loss: 1.6405 - val_accuracy: 0.8936\n",
      "Epoch 3/10\n",
      "91/91 [==============================] - 0s 1ms/step - loss: 1.8454 - accuracy: 0.8804 - val_loss: 1.6405 - val_accuracy: 0.8936\n",
      "Epoch 4/10\n",
      "91/91 [==============================] - 0s 1ms/step - loss: 1.8454 - accuracy: 0.8804 - val_loss: 1.6405 - val_accuracy: 0.8936\n",
      "Epoch 5/10\n",
      "91/91 [==============================] - 0s 2ms/step - loss: 1.8454 - accuracy: 0.8804 - val_loss: 1.6405 - val_accuracy: 0.8936\n",
      "Epoch 6/10\n",
      "91/91 [==============================] - 0s 1ms/step - loss: 1.8454 - accuracy: 0.8804 - val_loss: 1.6405 - val_accuracy: 0.8936\n",
      "Epoch 7/10\n",
      "91/91 [==============================] - 0s 1ms/step - loss: 1.8454 - accuracy: 0.8804 - val_loss: 1.6405 - val_accuracy: 0.8936\n",
      "Epoch 8/10\n",
      "91/91 [==============================] - 0s 839us/step - loss: 1.8454 - accuracy: 0.8804 - val_loss: 1.6405 - val_accuracy: 0.8936\n",
      "Epoch 9/10\n",
      "91/91 [==============================] - 0s 834us/step - loss: 1.8454 - accuracy: 0.8804 - val_loss: 1.6405 - val_accuracy: 0.8936\n",
      "Epoch 10/10\n",
      "91/91 [==============================] - 0s 962us/step - loss: 1.8454 - accuracy: 0.8804 - val_loss: 1.6405 - val_accuracy: 0.8936\n"
     ]
    }
   ],
   "source": [
    "\n",
    "\n",
    "history = model.fit(\n",
    "    x=X_train, y=y_train['y'],\n",
    "    epochs=10, batch_size=32, validation_split=0.2\n",
    ")\n",
    "\n"
   ]
  },
  {
   "cell_type": "code",
   "execution_count": 69,
   "metadata": {},
   "outputs": [
    {
     "name": "stdout",
     "output_type": "stream",
     "text": [
      "{'loss': [1.847570538520813, 1.8454467058181763, 1.8454469442367554, 1.8454464673995972, 1.8454471826553345, 1.8454469442367554, 1.8454463481903076, 1.8454468250274658, 1.8454469442367554, 1.8454464673995972], 'accuracy': [0.8800138235092163, 0.8803595900535583, 0.8803595900535583, 0.8803595900535583, 0.8803595900535583, 0.8803595900535583, 0.8803595900535583, 0.8803595900535583, 0.8803595900535583, 0.8803595900535583], 'val_loss': [1.6404985189437866, 1.6404985189437866, 1.6404985189437866, 1.6404985189437866, 1.6404985189437866, 1.6404985189437866, 1.6404985189437866, 1.6404985189437866, 1.6404985189437866, 1.6404985189437866], 'val_accuracy': [0.8936464190483093, 0.8936464190483093, 0.8936464190483093, 0.8936464190483093, 0.8936464190483093, 0.8936464190483093, 0.8936464190483093, 0.8936464190483093, 0.8936464190483093, 0.8936464190483093]}\n"
     ]
    }
   ],
   "source": [
    "print(history.history)\n"
   ]
  },
  {
   "cell_type": "code",
   "execution_count": 70,
   "metadata": {},
   "outputs": [
    {
     "data": {
      "image/png": "[encoded data removed]",
      "text/plain": [
       "<Figure size 432x288 with 1 Axes>"
      ]
     },
     "metadata": {
      "needs_background": "light"
     },
     "output_type": "display_data"
    },
    {
     "data": {
      "image/png": "[encoded data removed]",
      "text/plain": [
       "<Figure size 432x288 with 1 Axes>"
      ]
     },
     "metadata": {
      "needs_background": "light"
     },
     "output_type": "display_data"
    }
   ],
   "source": [
    "import matplotlib.pyplot as plt\n",
    "\n",
    "plt.plot(history.history['accuracy'])\n",
    "plt.plot(history.history['val_accuracy'])\n",
    "plt.title('Model Accuracy')\n",
    "plt.ylabel('Accuracy')\n",
    "plt.xlabel('Loop')\n",
    "plt.legend(['Train', 'Validation'], loc='upper left')\n",
    "plt.show()\n",
    "\n",
    "plt.plot(history.history['loss'])\n",
    "plt.plot(history.history['val_loss'])\n",
    "plt.title('Model Loss')\n",
    "plt.ylabel('Loss')\n",
    "plt.xlabel('Loop')\n",
    "plt.legend(['Train', 'Validation'], loc='upper left')\n",
    "plt.show()\n"
   ]
  },
  {
   "cell_type": "code",
   "execution_count": 71,
   "metadata": {},
   "outputs": [
    {
     "name": "stdout",
     "output_type": "stream",
     "text": [
      "Activity02.ipynb     bank_data_target.csv  Exercise07.ipynb  Exercise09.ipynb\r\n",
      "bank_data_feats.csv  Exercise06.ipynb\t   Exercise08.ipynb\r\n"
     ]
    }
   ],
   "source": [
    "\n",
    "\n",
    "!ls Applied-Deep-Learning-with-Keras/Lesson02\n",
    "\n"
   ]
  },
  {
   "cell_type": "code",
   "execution_count": 72,
   "metadata": {},
   "outputs": [],
   "source": [
    "import pandas as pd\n",
    "\n",
    "feats = pd.read_csv(\n",
    "    'Applied-Deep-Learning-with-Keras/Lesson02/bank_data_feats.csv',\n",
    "    index_col = 0\n",
    ")\n",
    "target = pd.read_csv(\n",
    "    'Applied-Deep-Learning-with-Keras/Lesson02/bank_data_target.csv',\n",
    "    index_col = 0\n",
    ")"
   ]
  },
  {
   "cell_type": "code",
   "execution_count": 74,
   "metadata": {},
   "outputs": [
    {
     "name": "stdout",
     "output_type": "stream",
     "text": [
      "Epoch 1/10\n",
      "91/91 [==============================] - 0s 1ms/step - loss: 3.6753 - accuracy: 0.7396 - val_loss: 3.1384 - val_accuracy: 0.7762\n",
      "Epoch 2/10\n",
      "91/91 [==============================] - 0s 815us/step - loss: 2.8701 - accuracy: 0.7963 - val_loss: 2.7227 - val_accuracy: 0.8094\n",
      "Epoch 3/10\n",
      "91/91 [==============================] - 0s 1ms/step - loss: 2.6216 - accuracy: 0.8216 - val_loss: 2.6338 - val_accuracy: 0.8232\n",
      "Epoch 4/10\n",
      "91/91 [==============================] - 0s 1ms/step - loss: 2.5011 - accuracy: 0.8309 - val_loss: 2.5510 - val_accuracy: 0.8287\n",
      "Epoch 5/10\n",
      "91/91 [==============================] - 0s 1ms/step - loss: 2.4551 - accuracy: 0.8358 - val_loss: 2.5392 - val_accuracy: 0.8301\n",
      "Epoch 6/10\n",
      "91/91 [==============================] - 0s 1ms/step - loss: 2.4665 - accuracy: 0.8358 - val_loss: 2.5306 - val_accuracy: 0.8301\n",
      "Epoch 7/10\n",
      "91/91 [==============================] - 0s 935us/step - loss: 2.4456 - accuracy: 0.8378 - val_loss: 2.5095 - val_accuracy: 0.8329\n",
      "Epoch 8/10\n",
      "91/91 [==============================] - 0s 857us/step - loss: 2.4327 - accuracy: 0.8396 - val_loss: 2.4839 - val_accuracy: 0.8343\n",
      "Epoch 9/10\n",
      "91/91 [==============================] - 0s 836us/step - loss: 2.4146 - accuracy: 0.8396 - val_loss: 2.4615 - val_accuracy: 0.8370\n",
      "Epoch 10/10\n",
      "91/91 [==============================] - 0s 832us/step - loss: 2.4049 - accuracy: 0.8402 - val_loss: 2.4118 - val_accuracy: 0.8384\n"
     ]
    }
   ],
   "source": [
    "from sklearn.model_selection import train_test_split\n",
    "\n",
    "test_size = 0.2\n",
    "random_state = 42\n",
    "\n",
    "X_train, X_test, y_train, y_test = train_test_split(\n",
    "    feats, target, test_size=test_size, random_state=random_state\n",
    ")\n",
    "\n",
    "from keras.models import Sequential\n",
    "\n",
    "model = Sequential()\n",
    "from keras.layers import Dense, Activation\n",
    "from keras.models import Sequential\n",
    "\n",
    "input_shape = X_train.shape[1]\n",
    "units = 1\n",
    "\n",
    "model.add(Dense(units, input_dim = input_shape))\n",
    "model.add(Activation('tanh'))\n",
    "model.compile(\n",
    "    optimizer='adam',\n",
    "    loss='binary_crossentropy',\n",
    "    metrics=['accuracy']\n",
    ")\n",
    "history = model.fit(\n",
    "    x=X_train, y=y_train['y'],\n",
    "    epochs=10, batch_size=32, validation_split=0.2\n",
    ")\n"
   ]
  },
  {
   "cell_type": "code",
   "execution_count": 75,
   "metadata": {},
   "outputs": [
    {
     "data": {
      "image/png": "[encoded data removed]",
      "text/plain": [
       "<Figure size 432x288 with 1 Axes>"
      ]
     },
     "metadata": {
      "needs_background": "light"
     },
     "output_type": "display_data"
    },
    {
     "data": {
      "image/png": "[encoded data removed]",
      "text/plain": [
       "<Figure size 432x288 with 1 Axes>"
      ]
     },
     "metadata": {
      "needs_background": "light"
     },
     "output_type": "display_data"
    }
   ],
   "source": [
    "\n",
    "\n",
    "import matplotlib.pyplot as plt\n",
    "\n",
    "plt.plot(history.history['accuracy'])\n",
    "plt.plot(history.history['val_accuracy'])\n",
    "plt.title('Model Accuracy')\n",
    "plt.ylabel('Accuracy')\n",
    "plt.xlabel('Loop')\n",
    "plt.legend(['Train', 'Validation'], loc='upper left')\n",
    "plt.show()\n",
    "\n",
    "plt.plot(history.history['loss'])\n",
    "plt.plot(history.history['val_loss'])\n",
    "plt.title('Model Loss')\n",
    "plt.ylabel('Loss')\n",
    "plt.xlabel('Loop')\n",
    "plt.legend(['Train', 'Validation'], loc='upper left')\n",
    "plt.show()\n",
    "\n"
   ]
  },
  {
   "cell_type": "code",
   "execution_count": 76,
   "metadata": {},
   "outputs": [],
   "source": [
    "# Euler Formula\n",
    "# e^ix = cos(x) + i sin(x)\n",
    "# e^-ix = cos(x) - i sin(x)\n",
    "# e^ix + e^-ix = 2 cos(x)\n",
    "# cos(x) = (e^ix + e^-ix) / 2\n",
    "\n",
    "# e^ix - e^-ix = 2i sin(x)\n",
    "# sin(x) = (e^ix - e^-ix) / 2\n",
    "# tan(x) = sin(x) / cos(x)\n",
    "\n",
    "# cosh(x) = (e^x + e^-x) / 2\n",
    "# sinh(x) = (e^x - e^-x) / 2\n",
    "# tanh(x) = sinh(x) / cosh(x)\n",
    "# tanh(x)는 -1 ~ 1 사이의 값을 가지게 된다."
   ]
  },
  {
   "cell_type": "code",
   "execution_count": 78,
   "metadata": {},
   "outputs": [],
   "source": [
    "# X: 1 by 2\n",
    "# W1: 2 by 3\n",
    "# b1: 1 by 3\n",
    "# z1 = X * W1 + b1\n",
    "# 행렬 곱셈의 규칙\n",
    "# (1 by 2)(2 by 3) ===> (1 by 3)\n",
    "# a1: (1 by 3)\n",
    "# W2: 3 by 5\n",
    "# b2: 1 by 5\n",
    "# z2 = a1 * W2 + b2\n",
    "# (1 by 3)(3 by 5) ===> (1 by 5)\n",
    "# a2: (1 by 5)\n",
    "# W3: 5 by 1\n",
    "# b3: 1 by 1\n",
    "# z3 = a2 * W3 + b3\n",
    "# (1 by 5)(5 by 1) ===> (1 by 1)\n",
    "# Y = sigmoid(z3) ===> 0 ~ 1 확률로 나타난다."
   ]
  },
  {
   "cell_type": "code",
   "execution_count": 1,
   "metadata": {},
   "outputs": [
    {
     "name": "stdout",
     "output_type": "stream",
     "text": [
      "Num of Dataset: 300\n",
      "Num of Features: 10\n",
      "Possible Output Classes: [0 1]\n"
     ]
    }
   ],
   "source": [
    "import numpy as np\n",
    "from sklearn.datasets import make_classification\n",
    "\n",
    "X, y = make_classification(\n",
    "     # 데이터 300개\n",
    "    n_samples = 300,\n",
    "    # 독립 변수 10개\n",
    "    n_features=10,\n",
    "    # 나올 수 있는 결과 2개\n",
    "    n_classes=2\n",
    ")\n",
    "\n",
    "print(\"Num of Dataset:\", X.shape[0])\n",
    "print(\"Num of Features:\", X.shape[1])\n",
    "print(\"Possible Output Classes:\", np.unique(y))"
   ]
  },
  {
   "cell_type": "code",
   "execution_count": 2,
   "metadata": {},
   "outputs": [],
   "source": [
    "# Features가 10개라는 뜻은\n",
    "# y = ax1 + bx2 + cx3 + dx4 + ex5 fx6 gx7 hx8 ix9 jx10 + alpha"
   ]
  },
  {
   "cell_type": "code",
   "execution_count": 3,
   "metadata": {},
   "outputs": [],
   "source": [
    "from keras.models import Sequential\n",
    "\n",
    "model = Sequential()"
   ]
  },
  {
   "cell_type": "code",
   "execution_count": 4,
   "metadata": {},
   "outputs": [],
   "source": [
    "\n",
    "\n",
    "from keras.layers import Dense, Activation\n",
    "\n",
    "# Dense(출력 개수, 활성화 함수, 입력 개수)\n",
    "model.add(Dense(20, activation='tanh', input_dim=10))\n",
    "\n"
   ]
  },
  {
   "cell_type": "code",
   "execution_count": 5,
   "metadata": {},
   "outputs": [],
   "source": [
    "\n",
    "\n",
    "model.add(Dense(40, activation='tanh'))\n",
    "model.add(Dense(10, activation='tanh'))\n",
    "model.add(Dense(1, activation='sigmoid'))\n",
    "\n"
   ]
  },
  {
   "cell_type": "code",
   "execution_count": 6,
   "metadata": {},
   "outputs": [],
   "source": [
    "model.compile(optimizer='sgd', loss='binary_crossentropy')"
   ]
  },
  {
   "cell_type": "code",
   "execution_count": 7,
   "metadata": {},
   "outputs": [
    {
     "name": "stdout",
     "output_type": "stream",
     "text": [
      "Epoch 1/100\n",
      "60/60 [==============================] - 0s 551us/step - loss: 0.5812\n",
      "Epoch 2/100\n",
      "60/60 [==============================] - 0s 522us/step - loss: 0.4838\n",
      "Epoch 3/100\n",
      "60/60 [==============================] - 0s 534us/step - loss: 0.4297\n",
      "Epoch 4/100\n",
      "60/60 [==============================] - 0s 688us/step - loss: 0.3962\n",
      "Epoch 5/100\n",
      "60/60 [==============================] - 0s 562us/step - loss: 0.3756\n",
      "Epoch 6/100\n",
      "60/60 [==============================] - 0s 522us/step - loss: 0.3620\n",
      "Epoch 7/100\n",
      "60/60 [==============================] - 0s 519us/step - loss: 0.3528\n",
      "Epoch 8/100\n",
      "60/60 [==============================] - 0s 514us/step - loss: 0.3473\n",
      "Epoch 9/100\n",
      "60/60 [==============================] - 0s 515us/step - loss: 0.3437\n",
      "Epoch 10/100\n",
      "60/60 [==============================] - 0s 563us/step - loss: 0.3411\n",
      "Epoch 11/100\n",
      "60/60 [==============================] - 0s 652us/step - loss: 0.3386\n",
      "Epoch 12/100\n",
      "60/60 [==============================] - 0s 1ms/step - loss: 0.3372\n",
      "Epoch 13/100\n",
      "60/60 [==============================] - 0s 1ms/step - loss: 0.3361\n",
      "Epoch 14/100\n",
      "60/60 [==============================] - 0s 1ms/step - loss: 0.3345\n",
      "Epoch 15/100\n",
      "60/60 [==============================] - 0s 1ms/step - loss: 0.3336\n",
      "Epoch 16/100\n",
      "60/60 [==============================] - 0s 1ms/step - loss: 0.3328\n",
      "Epoch 17/100\n",
      "60/60 [==============================] - 0s 1ms/step - loss: 0.3322\n",
      "Epoch 18/100\n",
      "60/60 [==============================] - 0s 883us/step - loss: 0.3311\n",
      "Epoch 19/100\n",
      "60/60 [==============================] - 0s 588us/step - loss: 0.3297\n",
      "Epoch 20/100\n",
      "60/60 [==============================] - 0s 589us/step - loss: 0.3294\n",
      "Epoch 21/100\n",
      "60/60 [==============================] - 0s 580us/step - loss: 0.3296\n",
      "Epoch 22/100\n",
      "60/60 [==============================] - 0s 573us/step - loss: 0.3280\n",
      "Epoch 23/100\n",
      "60/60 [==============================] - 0s 603us/step - loss: 0.3264\n",
      "Epoch 24/100\n",
      "60/60 [==============================] - 0s 532us/step - loss: 0.3264\n",
      "Epoch 25/100\n",
      "60/60 [==============================] - 0s 544us/step - loss: 0.3250\n",
      "Epoch 26/100\n",
      "60/60 [==============================] - 0s 562us/step - loss: 0.3244\n",
      "Epoch 27/100\n",
      "60/60 [==============================] - 0s 576us/step - loss: 0.3238\n",
      "Epoch 28/100\n",
      "60/60 [==============================] - 0s 552us/step - loss: 0.3227\n",
      "Epoch 29/100\n",
      "60/60 [==============================] - 0s 535us/step - loss: 0.3222\n",
      "Epoch 30/100\n",
      "60/60 [==============================] - 0s 519us/step - loss: 0.3209\n",
      "Epoch 31/100\n",
      "60/60 [==============================] - 0s 514us/step - loss: 0.3197\n",
      "Epoch 32/100\n",
      "60/60 [==============================] - 0s 675us/step - loss: 0.3197\n",
      "Epoch 33/100\n",
      "60/60 [==============================] - 0s 585us/step - loss: 0.3186\n",
      "Epoch 34/100\n",
      "60/60 [==============================] - 0s 619us/step - loss: 0.3175\n",
      "Epoch 35/100\n",
      "60/60 [==============================] - 0s 644us/step - loss: 0.3169\n",
      "Epoch 36/100\n",
      "60/60 [==============================] - 0s 654us/step - loss: 0.3161\n",
      "Epoch 37/100\n",
      "60/60 [==============================] - 0s 681us/step - loss: 0.3155\n",
      "Epoch 38/100\n",
      "60/60 [==============================] - 0s 700us/step - loss: 0.3153\n",
      "Epoch 39/100\n",
      "60/60 [==============================] - 0s 715us/step - loss: 0.3134\n",
      "Epoch 40/100\n",
      "60/60 [==============================] - 0s 991us/step - loss: 0.3134\n",
      "Epoch 41/100\n",
      "60/60 [==============================] - 0s 1ms/step - loss: 0.3123\n",
      "Epoch 42/100\n",
      "60/60 [==============================] - 0s 1ms/step - loss: 0.3115\n",
      "Epoch 43/100\n",
      "60/60 [==============================] - 0s 985us/step - loss: 0.3106\n",
      "Epoch 44/100\n",
      "60/60 [==============================] - 0s 996us/step - loss: 0.3108\n",
      "Epoch 45/100\n",
      "60/60 [==============================] - 0s 891us/step - loss: 0.3103\n",
      "Epoch 46/100\n",
      "60/60 [==============================] - 0s 957us/step - loss: 0.3094\n",
      "Epoch 47/100\n",
      "60/60 [==============================] - 0s 831us/step - loss: 0.3078\n",
      "Epoch 48/100\n",
      "60/60 [==============================] - 0s 817us/step - loss: 0.3076\n",
      "Epoch 49/100\n",
      "60/60 [==============================] - 0s 935us/step - loss: 0.3073\n",
      "Epoch 50/100\n",
      "60/60 [==============================] - 0s 823us/step - loss: 0.3062\n",
      "Epoch 51/100\n",
      "60/60 [==============================] - 0s 887us/step - loss: 0.3045\n",
      "Epoch 52/100\n",
      "60/60 [==============================] - 0s 836us/step - loss: 0.3038\n",
      "Epoch 53/100\n",
      "60/60 [==============================] - 0s 808us/step - loss: 0.3037\n",
      "Epoch 54/100\n",
      "60/60 [==============================] - 0s 565us/step - loss: 0.3026\n",
      "Epoch 55/100\n",
      "60/60 [==============================] - 0s 570us/step - loss: 0.3020\n",
      "Epoch 56/100\n",
      "60/60 [==============================] - 0s 685us/step - loss: 0.3010\n",
      "Epoch 57/100\n",
      "60/60 [==============================] - 0s 1ms/step - loss: 0.3005\n",
      "Epoch 58/100\n",
      "60/60 [==============================] - 0s 1ms/step - loss: 0.2991\n",
      "Epoch 59/100\n",
      "60/60 [==============================] - 0s 1ms/step - loss: 0.2987\n",
      "Epoch 60/100\n",
      "60/60 [==============================] - 0s 879us/step - loss: 0.2986\n",
      "Epoch 61/100\n",
      "60/60 [==============================] - 0s 900us/step - loss: 0.2960\n",
      "Epoch 62/100\n",
      "60/60 [==============================] - 0s 869us/step - loss: 0.2961\n",
      "Epoch 63/100\n",
      "60/60 [==============================] - 0s 874us/step - loss: 0.2951\n",
      "Epoch 64/100\n",
      "60/60 [==============================] - 0s 1ms/step - loss: 0.2938\n",
      "Epoch 65/100\n",
      "60/60 [==============================] - 0s 1ms/step - loss: 0.2933\n",
      "Epoch 66/100\n",
      "60/60 [==============================] - 0s 1ms/step - loss: 0.2931\n",
      "Epoch 67/100\n",
      "60/60 [==============================] - 0s 1ms/step - loss: 0.2912\n",
      "Epoch 68/100\n",
      "60/60 [==============================] - 0s 1ms/step - loss: 0.2907\n",
      "Epoch 69/100\n",
      "60/60 [==============================] - 0s 946us/step - loss: 0.2901\n",
      "Epoch 70/100\n",
      "60/60 [==============================] - 0s 562us/step - loss: 0.2896\n",
      "Epoch 71/100\n",
      "60/60 [==============================] - 0s 516us/step - loss: 0.2879\n",
      "Epoch 72/100\n",
      "60/60 [==============================] - 0s 526us/step - loss: 0.2876\n",
      "Epoch 73/100\n",
      "60/60 [==============================] - 0s 580us/step - loss: 0.2870\n",
      "Epoch 74/100\n",
      "60/60 [==============================] - 0s 541us/step - loss: 0.2853\n",
      "Epoch 75/100\n",
      "60/60 [==============================] - 0s 546us/step - loss: 0.2848\n",
      "Epoch 76/100\n",
      "60/60 [==============================] - 0s 525us/step - loss: 0.2845\n",
      "Epoch 77/100\n",
      "60/60 [==============================] - 0s 530us/step - loss: 0.2825\n",
      "Epoch 78/100\n",
      "60/60 [==============================] - 0s 568us/step - loss: 0.2827\n",
      "Epoch 79/100\n",
      "60/60 [==============================] - 0s 532us/step - loss: 0.2810\n",
      "Epoch 80/100\n",
      "60/60 [==============================] - 0s 507us/step - loss: 0.2795\n",
      "Epoch 81/100\n",
      "60/60 [==============================] - 0s 555us/step - loss: 0.2787\n",
      "Epoch 82/100\n",
      "60/60 [==============================] - 0s 529us/step - loss: 0.2772\n",
      "Epoch 83/100\n",
      "60/60 [==============================] - 0s 532us/step - loss: 0.2750\n",
      "Epoch 84/100\n",
      "60/60 [==============================] - 0s 700us/step - loss: 0.2751\n",
      "Epoch 85/100\n",
      "60/60 [==============================] - 0s 783us/step - loss: 0.2737\n",
      "Epoch 86/100\n",
      "60/60 [==============================] - 0s 749us/step - loss: 0.2731\n",
      "Epoch 87/100\n",
      "60/60 [==============================] - 0s 949us/step - loss: 0.2718\n",
      "Epoch 88/100\n",
      "60/60 [==============================] - 0s 1ms/step - loss: 0.2706\n",
      "Epoch 89/100\n",
      "60/60 [==============================] - 0s 1ms/step - loss: 0.2695\n",
      "Epoch 90/100\n",
      "60/60 [==============================] - 0s 1ms/step - loss: 0.2680\n",
      "Epoch 91/100\n",
      "60/60 [==============================] - 0s 1ms/step - loss: 0.2678\n",
      "Epoch 92/100\n",
      "60/60 [==============================] - 0s 1ms/step - loss: 0.2668\n",
      "Epoch 93/100\n",
      "60/60 [==============================] - 0s 1ms/step - loss: 0.2642\n",
      "Epoch 94/100\n",
      "60/60 [==============================] - 0s 1ms/step - loss: 0.2655\n",
      "Epoch 95/100\n",
      "60/60 [==============================] - 0s 856us/step - loss: 0.2636\n",
      "Epoch 96/100\n",
      "60/60 [==============================] - 0s 561us/step - loss: 0.2620\n",
      "Epoch 97/100\n",
      "60/60 [==============================] - 0s 557us/step - loss: 0.2617\n",
      "Epoch 98/100\n",
      "60/60 [==============================] - 0s 522us/step - loss: 0.2601\n",
      "Epoch 99/100\n",
      "60/60 [==============================] - 0s 513us/step - loss: 0.2586\n",
      "Epoch 100/100\n"
     ]
    },
    {
     "name": "stdout",
     "output_type": "stream",
     "text": [
      " 1/60 [..............................] - ETA: 0s - loss: 0.0749\b\b\b\b\b\b\b\b\b\b\b\b\b\b\b\b\b\b\b\b\b\b\b\b\b\b\b\b\b\b\b\b\b\b\b\b\b\b\b\b\b\b\b\b\b\b\b\b\b\b\b\b\b\b\b\b\b\b\b\b\b\b\b\r",
      "60/60 [==============================] - 0s 554us/step - loss: 0.2568\n"
     ]
    }
   ],
   "source": [
    "# model.fit(X, y, epochs=100, batch_size=5, verbose=0)\n",
    "history = model.fit(X, y, epochs=100, batch_size=5)"
   ]
  },
  {
   "cell_type": "code",
   "execution_count": 8,
   "metadata": {},
   "outputs": [
    {
     "name": "stdout",
     "output_type": "stream",
     "text": [
      "<tensorflow.python.keras.callbacks.History object at 0x7f07bc0bb150>\n"
     ]
    }
   ],
   "source": [
    "print(history)"
   ]
  },
  {
   "cell_type": "code",
   "execution_count": 9,
   "metadata": {},
   "outputs": [
    {
     "name": "stdout",
     "output_type": "stream",
     "text": [
      "{'loss': [0.5812157988548279, 0.48379582166671753, 0.42969658970832825, 0.39624103903770447, 0.37559643387794495, 0.3619927763938904, 0.35284286737442017, 0.3472684621810913, 0.34368443489074707, 0.34105655550956726, 0.33855926990509033, 0.33719387650489807, 0.33605387806892395, 0.3344583809375763, 0.333648681640625, 0.3327523171901703, 0.332229882478714, 0.3310503661632538, 0.32969096302986145, 0.32936397194862366, 0.32962027192115784, 0.3280280530452728, 0.3263939321041107, 0.32641661167144775, 0.32503706216812134, 0.32439252734184265, 0.32384687662124634, 0.32270416617393494, 0.3221946656703949, 0.32088083028793335, 0.31971368193626404, 0.3197019398212433, 0.31859517097473145, 0.3175310492515564, 0.316914439201355, 0.3160974383354187, 0.31550881266593933, 0.31528958678245544, 0.3134150803089142, 0.31338074803352356, 0.3122531771659851, 0.3115366995334625, 0.31060993671417236, 0.31081441044807434, 0.3102657198905945, 0.30940282344818115, 0.30780982971191406, 0.30757948756217957, 0.30729055404663086, 0.30619102716445923, 0.3044876456260681, 0.30384254455566406, 0.3037406802177429, 0.3026026785373688, 0.3019804358482361, 0.30104705691337585, 0.3005146086215973, 0.29910773038864136, 0.2986673414707184, 0.298635870218277, 0.29599708318710327, 0.296149879693985, 0.29508933424949646, 0.29380881786346436, 0.2933112680912018, 0.2930527329444885, 0.2912309765815735, 0.29066938161849976, 0.2900652289390564, 0.28962913155555725, 0.2879316210746765, 0.28758662939071655, 0.28695616126060486, 0.2853377163410187, 0.2847599685192108, 0.2845090627670288, 0.28251731395721436, 0.28271952271461487, 0.2810029685497284, 0.27949008345603943, 0.27870243787765503, 0.27716851234436035, 0.27503255009651184, 0.27511969208717346, 0.27370959520339966, 0.27312496304512024, 0.27176693081855774, 0.27055037021636963, 0.26946914196014404, 0.26798924803733826, 0.2677987813949585, 0.26677191257476807, 0.2641987204551697, 0.2654757499694824, 0.2635500729084015, 0.2620362937450409, 0.2616603970527649, 0.2600939869880676, 0.2586151659488678, 0.25681161880493164]}\n"
     ]
    }
   ],
   "source": [
    "print(history.history)"
   ]
  },
  {
   "cell_type": "code",
   "execution_count": 10,
   "metadata": {},
   "outputs": [
    {
     "data": {
      "image/png": "[encoded data removed]",
      "text/plain": [
       "<Figure size 432x288 with 1 Axes>"
      ]
     },
     "metadata": {
      "needs_background": "light"
     },
     "output_type": "display_data"
    }
   ],
   "source": [
    "\n",
    "\n",
    "import matplotlib.pyplot as plt\n",
    "\n",
    "plt.plot(history.history['loss'])\n",
    "plt.title('Model Loss')\n",
    "plt.ylabel('Loss')\n",
    "plt.xlabel('Loop')\n",
    "plt.show()\n",
    "\n"
   ]
  },
  {
   "cell_type": "code",
   "execution_count": 11,
   "metadata": {},
   "outputs": [
    {
     "name": "stdout",
     "output_type": "stream",
     "text": [
      "Model: \"sequential\"\n",
      "_________________________________________________________________\n",
      "Layer (type)                 Output Shape              Param #   \n",
      "=================================================================\n",
      "dense (Dense)                (None, 20)                220       \n",
      "_________________________________________________________________\n",
      "dense_1 (Dense)              (None, 40)                840       \n",
      "_________________________________________________________________\n",
      "dense_2 (Dense)              (None, 10)                410       \n",
      "_________________________________________________________________\n",
      "dense_3 (Dense)              (None, 1)                 11        \n",
      "=================================================================\n",
      "Total params: 1,481\n",
      "Trainable params: 1,481\n",
      "Non-trainable params: 0\n",
      "_________________________________________________________________\n",
      "None\n"
     ]
    }
   ],
   "source": [
    "print(model.summary())"
   ]
  },
  {
   "cell_type": "code",
   "execution_count": 12,
   "metadata": {},
   "outputs": [
    {
     "name": "stdout",
     "output_type": "stream",
     "text": [
      "anaconda3\t\t\t  examples.desktop\t    sw\r\n",
      "Applied-Deep-Learning-with-Keras  ls\t\t\t    Templates\r\n",
      "data\t\t\t\t  Music\t\t\t    Untitled1.ipynb\r\n",
      "data.bank_data_feats.csv\t  NVIDIA_CUDA-11.0_Samples  Untitled2.ipynb\r\n",
      "Desktop\t\t\t\t  Pictures\t\t    Untitled.ipynb\r\n",
      "Documents\t\t\t  Public\t\t    Videos\r\n",
      "Downloads\t\t\t  snap\r\n"
     ]
    }
   ],
   "source": [
    "!ls"
   ]
  },
  {
   "cell_type": "code",
   "execution_count": null,
   "metadata": {},
   "outputs": [],
   "source": []
  }
 ],
 "metadata": {
  "kernelspec": {
   "display_name": "Python 3",
   "language": "python",
   "name": "python3"
  },
  "language_info": {
   "codemirror_mode": {
    "name": "ipython",
    "version": 3
   },
   "file_extension": ".py",
   "mimetype": "text/x-python",
   "name": "python",
   "nbconvert_exporter": "python",
   "pygments_lexer": "ipython3",
   "version": "3.7.6"
  }
 },
 "nbformat": 4,
 "nbformat_minor": 4
}
